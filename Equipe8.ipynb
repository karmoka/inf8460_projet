{
  "nbformat": 4,
  "nbformat_minor": 0,
  "metadata": {
    "kernelspec": {
      "name": "python3",
      "display_name": "Python 3"
    },
    "language_info": {
      "codemirror_mode": {
        "name": "ipython",
        "version": 3
      },
      "file_extension": ".py",
      "mimetype": "text/x-python",
      "name": "python",
      "nbconvert_exporter": "python",
      "pygments_lexer": "ipython3",
      "version": "3.6.9"
    },
    "colab": {
      "name": "starter-kernel.ipynb",
      "provenance": [],
      "collapsed_sections": [],
      "toc_visible": true
    },
    "accelerator": "GPU"
  },
  "cells": [
    {
      "cell_type": "markdown",
      "metadata": {
        "id": "tzFDImXp17px",
        "colab_type": "text"
      },
      "source": [
        "# INF8460 - Inference in Natural Languages\n",
        "### Équipe 8, Membres: \n",
        "    - Raphael Croteau\n",
        "    - Francois Vidal\n",
        "    - Clément Maurel\n"
      ]
    },
    {
      "cell_type": "markdown",
      "metadata": {
        "id": "aUCw1PJD2UVx",
        "colab_type": "text"
      },
      "source": [
        "## Modèles Simples  \n",
        "\n",
        "! **Important** Ces modèles ne servent que de baseline. Notre 'vrai' modèle se trouve à la section \"BERT + SRL\"  \n",
        "\n",
        "Utilisation de modèles simples afin de déterminer la complexité du problème. Parmis ceux-ci, un MLP simple avec softmax ainsi qu'un MLP utilisant BERT pour faire ses embeddings (bert n'était _pas_ entraîné avec le modèle)."
      ]
    },
    {
      "cell_type": "code",
      "metadata": {
        "id": "_wosasmf2UUd",
        "colab_type": "code",
        "colab": {}
      },
      "source": [
        "import os\n",
        "import time\n",
        "import sklearn\n",
        "\n",
        "import torch\n",
        "import numpy as np\n",
        "import pandas as pd\n",
        "import tensorflow as tf\n",
        "from nltk import TweetTokenizer\n",
        "from keras.utils import np_utils\n",
        "from nltk.corpus import stopwords\n",
        "from sklearn import preprocessing\n",
        "from sklearn.preprocessing import LabelEncoder\n",
        "from sklearn.model_selection import train_test_split\n",
        "\n",
        "from tensorflow.keras.layers import LSTM, Bidirectional, Dense, Flatten, Input\n",
        "from tensorflow.keras.preprocessing.sequence import pad_sequences\n",
        "from tensorflow.keras import Sequential\n",
        "from keras.models import Model\n",
        "from pytorch_pretrained_bert import BertTokenizer, BertModel, BertForMaskedLM"
      ],
      "execution_count": 0,
      "outputs": []
    },
    {
      "cell_type": "markdown",
      "metadata": {
        "id": "wakFOZIk2UU1",
        "colab_type": "text"
      },
      "source": [
        "### Traiter et sauvegarder les plongements bert\n",
        "Ces plongements peuvent prendre longtemps à traiter. Une méthode que nous avons adoptée pour se simplifier la vie était de traiter les données par groupes de 10'000 qui sont enregistrés dans des fichiers temporaires. Ces fichiers sont ensuite concatener pour former un seul grand tableau."
      ]
    },
    {
      "cell_type": "code",
      "metadata": {
        "id": "XIkwMyh-R7Cy",
        "colab_type": "code",
        "colab": {}
      },
      "source": [
        "# uncomment pour utiliser google drive. Sinon les fichiers doivent être dans le meme dossier que le notebook\n",
        "# from google.colab import drive\n",
        "# drive.mount('/content/inf8460_projet')\n",
        "# prefix = \"./inf8460_projet/My Drive/inf8460_projet/\"\n",
        "prefix = \"./\"\n",
        "\n",
        "# Lecture des données d'entraînement\n",
        "\n",
        "train_data = pd.read_csv(os.path.join(prefix, 'snli_train.csv'))\n",
        "train_data, validation_data = train_test_split(train_data, test_size=0.2)\n",
        "nd_documents = len(train_data) \n",
        "\n",
        "train_data.head()"
      ],
      "execution_count": 0,
      "outputs": []
    },
    {
      "cell_type": "code",
      "metadata": {
        "id": "uvEpZq-_2UVG",
        "colab_type": "code",
        "colab": {}
      },
      "source": [
        "# Load une version pre-entrainé de bert\n",
        "nb_features = 768\n",
        "incremental_treatment = False # Permet le pretraitment indremental des données\n",
        "\n",
        "tokenizer = BertTokenizer.from_pretrained('bert-base-uncased')\n",
        "model = BertModel.from_pretrained('bert-base-uncased')\n",
        "model.eval()"
      ],
      "execution_count": 0,
      "outputs": []
    },
    {
      "cell_type": "code",
      "metadata": {
        "id": "OVnrAbIA2UVP",
        "colab_type": "code",
        "colab": {}
      },
      "source": [
        "def run_batch(data):\n",
        "  \"\"\" Entraine bert avec data et renvoie la moyenne des dernier 4 layers ainsi que les labels de ces donnees \"\"\"\n",
        "  length_data = len(data)\n",
        "  start = time.time()\n",
        "  embedded = torch.zeros([len(data), nb_features])\n",
        "  index = 0\n",
        "  with torch.no_grad():\n",
        "      for sent1, sent2 in zip(data['sentence1'], data['sentence2']):\n",
        "          sentence = \"[CLS] \" + sent1 + \" [SEP] \" + sent2\n",
        "          tokenized_sentence = tokenizer.tokenize(sentence)\n",
        "          sep_index = tokenized_sentence.index(\"[SEP]\") \n",
        "          ids = torch.tensor([tokenizer.convert_tokens_to_ids(tokenized_sentence)])\n",
        "          segments = torch.tensor([0]*sep_index + [1]*(len(tokenized_sentence) - sep_index))\n",
        "          encoded_layers, _ = model(ids, segments)\n",
        "\n",
        "          mean_layers = torch.zeros([5, 768])\n",
        "          for j in range(7, 12):\n",
        "              mean_layers[j-7] = torch.mean(encoded_layers[j], 1)\n",
        "          mean_layers = torch.mean(mean_layers, 0)\n",
        "          embedded[index] = mean_layers\n",
        "\n",
        "          if index % 1000 == 0:\n",
        "              print(f\"Document: {index}/{length_data}\")\n",
        "\n",
        "          index += 1\n",
        "  print(\"Batch time : \", time.time() - start)\n",
        "\n",
        "  le = preprocessing.LabelEncoder()\n",
        "  return np.array(embedded), np.array(le.fit_transform(data[\"label1\"]))"
      ],
      "execution_count": 0,
      "outputs": []
    },
    {
      "cell_type": "code",
      "metadata": {
        "id": "mGiosHvf2UVb",
        "colab_type": "code",
        "colab": {}
      },
      "source": [
        "# Comme l'entrainement est tres long et qu'il y a beaucoup de donnees, on le fait en batch de \n",
        "# 10'000 qu'on enregistre dans des fichiers.\n",
        "if not incremental_treatment:\n",
        "  train_emb, train_labels_ = run_batch(train_data.head(10000))\n",
        "else:\n",
        "  i = 0\n",
        "  j = 10000\n",
        "  while i+j < len(train_data):\n",
        "      emb, labels = run_batch(train_data[i:i+j])\n",
        "      np.savetxt('train_emb_data{}.npy'.format(i), np.array(emb))\n",
        "      np.savetxt('train_emb_labels{}.npy'.format(i), np.array(labels))\n",
        "      i += j\n",
        "\n",
        "  # Combine les fichiers train_emb_data{i} en un seul fichier\n",
        "  i = 0\n",
        "  j = 10000\n",
        "  embs = None\n",
        "  labels = None\n",
        "  while True:\n",
        "      name1 = 'train_emb_data{}.npy'.format(i)\n",
        "      name2 = 'train_emb_labels{}.npy'.format(i)\n",
        "      print(\"Reading : \" + name1)\n",
        "      a = np.loadtxt(name1)\n",
        "      print(\"Reading : \" + name2)\n",
        "      b = np.loadtxt(name2)\n",
        "      if embs is None:\n",
        "          embs = a\n",
        "          labels = b\n",
        "      else:\n",
        "          embs = np.vstack((embs, a))\n",
        "          labels = np.vstack((labels, b))\n",
        "      print(i)\n",
        "      i += j\n",
        "  np.savetxt('{}_embs.npy'.format(i), np.array(embs))\n",
        "  np.savetxt('{}_labels.npy'.format(i), np.array(labels))"
      ],
      "execution_count": 0,
      "outputs": []
    },
    {
      "cell_type": "code",
      "metadata": {
        "id": "TKqLlK3i2UVi",
        "colab_type": "code",
        "colab": {}
      },
      "source": [
        "# Pretraite les donnees de n'ensemble de validation\n",
        "valid_emb, valid_labels_ = run_batch(validation_data.head(5000))\n",
        "np.savetxt('valid_emb_data.npy', np.array(valid_emb))\n",
        "np.savetxt('valid_emb_labels.npy', np.array(valid_labels))"
      ],
      "execution_count": 0,
      "outputs": []
    },
    {
      "cell_type": "markdown",
      "metadata": {
        "id": "ZsUiY24V2UVm",
        "colab_type": "text"
      },
      "source": [
        "###  Chargement des plongements enregistrés"
      ]
    },
    {
      "cell_type": "code",
      "metadata": {
        "id": "aY-LpOMU2UVn",
        "colab_type": "code",
        "colab": {}
      },
      "source": [
        "if incremental_treatment:\n",
        "  train_emb = np.loadtxt(prefix + '140000_embs.npy')\n",
        "  train_labels_ = np.loadtxt(prefix + \"140000_labels.npy\").flatten()\n",
        "  valid_emb = np.loadtxt(prefix + 'valid_emb_data.npy')\n",
        "  valid_labels_ = np.loadtxt(prefix + 'valid_emb_labels.npy')\n",
        "\n",
        "# Transforme les labels en données catégoriques pour la prédiction\n",
        "encoder = LabelEncoder()\n",
        "encoder.fit(train_labels_)\n",
        "train_labels = np_utils.to_categorical(encoder.transform(train_labels_))\n",
        "\n",
        "encoder = LabelEncoder()\n",
        "encoder.fit(valid_labels_)\n",
        "valid_labels = np_utils.to_categorical(encoder.transform(valid_labels_))"
      ],
      "execution_count": 0,
      "outputs": []
    },
    {
      "cell_type": "markdown",
      "metadata": {
        "id": "ROfVm42KTXbz",
        "colab_type": "text"
      },
      "source": [
        "### Modele simple FeedForwad avec plongements bert"
      ]
    },
    {
      "cell_type": "code",
      "metadata": {
        "id": "NfTA2WS22UV2",
        "colab_type": "code",
        "colab": {}
      },
      "source": [
        "# Model le plus simple, feed forward de 32 node\n",
        "model = Sequential([\n",
        "        Dense(32, input_shape=(len(train_emb[0]),), activation=\"sigmoid\"),\n",
        "        Dense(32, activation=\"sigmoid\"),\n",
        "        Dense(32, activation=\"sigmoid\"),\n",
        "        Dense(1, activation=\"sigmoid\")\n",
        "    ])\n",
        "model.compile(\n",
        "    optimizer=\"sgd\",\n",
        "    loss=\"binary_crossentropy\",\n",
        "    metrics=[\"accuracy\"]\n",
        ")\n",
        "model.summary()\n",
        "\n",
        "model.fit(\n",
        "    train_emb,\n",
        "    train_labels_,\n",
        "    epochs=4,\n",
        "    verbose=2,\n",
        "    batch_size=8,\n",
        "    validation_data=[valid_emb, valid_labels_])"
      ],
      "execution_count": 0,
      "outputs": []
    },
    {
      "cell_type": "markdown",
      "metadata": {
        "id": "30cYq-VuTjkF",
        "colab_type": "text"
      },
      "source": [
        "### Modele simple LSTM avec plongements bert "
      ]
    },
    {
      "cell_type": "code",
      "metadata": {
        "id": "INCOAmzS2UV5",
        "colab_type": "code",
        "colab": {}
      },
      "source": [
        "model_b = Sequential()\n",
        "model_b.add(Bidirectional(LSTM(128), input_shape=(1, len(train_emb[0]))))\n",
        "model_b.add(Dense(3, activation=\"softmax\"))\n",
        "model_b.compile(\n",
        "    optimizer=\"sgd\",\n",
        "    loss=\"categorical_crossentropy\",\n",
        "    metrics=[\"accuracy\"]\n",
        ")\n",
        "model_b.summary()"
      ],
      "execution_count": 0,
      "outputs": []
    },
    {
      "cell_type": "code",
      "metadata": {
        "id": "5G2A5L2o2UV9",
        "colab_type": "code",
        "colab": {}
      },
      "source": [
        "history = model_b.fit(\n",
        "    train_emb.reshape((len(train_emb),1, len(train_emb[0]))),\n",
        "    train_labels,\n",
        "    epochs=3, \n",
        "    batch_size=32,\n",
        "    validation_data=[valid_emb.reshape((len(valid_emb),1, len(valid_emb[0]))), valid_labels])\n",
        "history"
      ],
      "execution_count": 0,
      "outputs": []
    },
    {
      "cell_type": "code",
      "metadata": {
        "id": "8mA-HpX-2UWC",
        "colab_type": "code",
        "colab": {}
      },
      "source": [
        "import matplotlib.pyplot as plt\n",
        "def display_accuracy(model):\n",
        "    plt.plot(model.history.history['acc'], label=\"Training set\")\n",
        "    plt.plot(model.history.history['val_acc'],label=\"Validation set\")\n",
        "    plt.legend()\n",
        "    plt.show()\n",
        "\n",
        "display_accuracy(model_b)"
      ],
      "execution_count": 0,
      "outputs": []
    },
    {
      "cell_type": "markdown",
      "metadata": {
        "id": "yKucvCfVTF07",
        "colab_type": "text"
      },
      "source": [
        "## Modèle Complexe : BERT + PoS / BERT + SRL"
      ]
    },
    {
      "cell_type": "code",
      "metadata": {
        "id": "TrHNoGyC2UWR",
        "colab_type": "code",
        "colab": {}
      },
      "source": [
        "!pip install transformers\n",
        "!pip install allennlp"
      ],
      "execution_count": 0,
      "outputs": []
    },
    {
      "cell_type": "code",
      "metadata": {
        "id": "nt4ssarQ2UWd",
        "colab_type": "code",
        "colab": {}
      },
      "source": [
        "import io\n",
        "import os\n",
        "import time\n",
        "from datetime import datetime\n",
        "\n",
        "import torch\n",
        "import sklearn\n",
        "import nltk\n",
        "nltk.download('averaged_perceptron_tagger')\n",
        "nltk.download('tagsets')\n",
        "\n",
        "import numpy as np\n",
        "import pandas as pd\n",
        "import torch.nn as nn\n",
        "import tensorflow as tf\n",
        "import matplotlib.pyplot as plt\n",
        "\n",
        "from torch import optim\n",
        "from tqdm import tqdm, trange\n",
        "from allennlp.predictors.predictor import Predictor\n",
        "from sklearn.model_selection import train_test_split\n",
        "from sklearn.preprocessing import LabelEncoder, Normalizer\n",
        "from keras.preprocessing.sequence import pad_sequences\n",
        "from torch.utils.data import TensorDataset, DataLoader, RandomSampler, SequentialSampler, SequentialSampler\n",
        "\n",
        "from transformers import AdamW, get_linear_schedule_with_warmup\n",
        "from transformers import BertForSequenceClassification, BertConfig, BertTokenizer\n",
        "from transformers import DistilBertForSequenceClassification, DistilBertConfig, DistilBertTokenizer"
      ],
      "execution_count": 0,
      "outputs": []
    },
    {
      "cell_type": "code",
      "metadata": {
        "id": "0Jptycm41Ofl",
        "colab_type": "code",
        "colab": {}
      },
      "source": [
        "# uncomment pour utiliser google drive. Sinon les fichiers doivent être dans le meme dossier que le notebook\n",
        "# from google.colab import drive\n",
        "# drive.mount('/content/inf8460_projet')\n",
        "# prefix = \"./inf8460_projet/My Drive/inf8460_projet/\"\n",
        "prefix = \"./\""
      ],
      "execution_count": 0,
      "outputs": []
    },
    {
      "cell_type": "code",
      "metadata": {
        "id": "lm3Xn0rLQD9k",
        "colab_type": "code",
        "colab": {}
      },
      "source": [
        "# Une version de BERT très standard. L'entraînement est assez long\n",
        "# bert_set = \"bert-base-uncased\"\n",
        "# tokenizer_class = BertTokenizer\n",
        "# bert_class = BertForSequenceClassification\n",
        "# bert_config_class = BertConfig\n",
        "\n",
        "# Une version de BERT _beaucoup_ plus rapide. Perte de ~3% en performance, gain de ~30% en temps d'entraînement\n",
        "bert_set = \"distilbert-base-uncased\"\n",
        "tokenizer_class = DistilBertTokenizer\n",
        "bert_class = DistilBertForSequenceClassification\n",
        "bert_config_class = DistilBertConfig\n",
        "\n",
        "# Détermine si on entraîne le modèle en utilisant les tags sémantiques et si on utilise uniquement BERT pour l'inférence\n",
        "with_srl = False\n",
        "with_tags = True\n",
        "\n",
        "batch_size = 4"
      ],
      "execution_count": 0,
      "outputs": []
    },
    {
      "cell_type": "markdown",
      "metadata": {
        "id": "zUPggl1laXFX",
        "colab_type": "text"
      },
      "source": [
        "### Traitement des Données\n",
        "\n",
        "Le prétraitement !!pour le SRL!! prend _beaucoup_ de temps. \n",
        "\n",
        "Vous trouverez en suivant le lien suivant un fichier contenant 25'000 samples pré-traité pour srl : https://drive.google.com/open?id=11lB-5yiqRdYVKLMKFEhv12PDyeTjtN7- \n",
        "\n",
        "Placez ces données dans le même dossier que le notebook et allez directement à la section Chargement des données"
      ]
    },
    {
      "cell_type": "code",
      "metadata": {
        "id": "-8Epb6weVrd4",
        "colab_type": "code",
        "colab": {}
      },
      "source": [
        "# Lecture des données d'entraînement\n",
        "# On met les differents sets dans des fichiers pour etre sur que cela soit coherent entre les differentes intances du notebook\n",
        "all_data = pd.read_csv(os.path.join(prefix, 'snli_train.csv'))\n",
        "all_train_data, all_valid_data = train_test_split(all_data, test_size=0.1)\n",
        "all_train_data, all_test_data = train_test_split(all_train_data, test_size=0.05)\n",
        "\n",
        "all_test_data.to_csv(prefix + '/test_samples.csv', index=False) # 5% de toutes les données\n",
        "all_valid_data.to_csv(prefix + '/valid_samples.csv', index=False) # 10% d e toutes les données\n",
        "all_train_data.to_csv(prefix + '/train_samples.csv', index=False) # 85% de toutes les données"
      ],
      "execution_count": 0,
      "outputs": []
    },
    {
      "cell_type": "code",
      "metadata": {
        "id": "bSHwoVqGkK47",
        "colab_type": "code",
        "colab": {}
      },
      "source": [
        "# Permet de choisir le nombre de données à traiter afin de faire des itérations rapides. None pour toutes les utiliser\n",
        "num_samples = None \n",
        "num_test = None\n",
        "\n",
        "# On lit les fichiers enregistré plus haut (toujours dans le but de garder le tout cohérent)\n",
        "all_test_data = pd.read_csv(os.path.join(prefix, 'test_samples.csv'))\n",
        "all_valid_data = pd.read_csv(os.path.join(prefix, 'valid_samples.csv'))\n",
        "all_train_data = pd.read_csv(os.path.join(prefix, 'train_samples.csv'))\n",
        "\n",
        "if num_samples is not None:\n",
        "  all_valid_data = all_valid_data[num_samples:num_samples+int(num_samples*0.1)]\n",
        "  all_train_data = all_train_data[num_samples:num_samples+int(num_samples*0.90)]\n",
        "if num_test is not None:\n",
        "  all_test_data = all_test_data.head(num_test)\n",
        "\n",
        "label_encoder = LabelEncoder()\n",
        "all_train_labels = np.array(label_encoder.fit_transform(all_train_data[\"label1\"])) \n",
        "all_valid_labels = np.array(label_encoder.fit_transform(all_valid_data[\"label1\"]))\n",
        "all_test_labels = np.array(label_encoder.fit_transform(all_test_data[\"label1\"]))\n",
        "\n",
        "print(\"{} Training samples\".format(len(all_train_data)))\n",
        "print(\"{} Validating samples\".format(len(all_valid_data)))\n",
        "print(\"{} Testing samples\".format(len(all_test_data)))"
      ],
      "execution_count": 0,
      "outputs": []
    },
    {
      "cell_type": "code",
      "metadata": {
        "id": "bif16f5c1wwR",
        "colab_type": "code",
        "colab": {}
      },
      "source": [
        "predictor = Predictor.from_path(\"https://s3-us-west-2.amazonaws.com/allennlp/models/bert-base-srl-2019.06.17.tar.gz\")\n",
        "\n",
        "def get_semtags(tokens):\n",
        "  \"\"\" execute le Semantic role labeling sur l'entré tokenisé donnée. \"\"\"\n",
        "  if len(tokens) == 0:\n",
        "    return []\n",
        "  index_sep = np.nonzero(np.array(tokens)==\"[SEP]\")[0][0]\n",
        "  sentence1 = ' '.join(tokens[1:index_sep]) # From after [CLS] to before the first [SEP]\n",
        "  sentence2 = ' '.join(tokens[index_sep+1:-1]) # From after the first [SEP] to before the last [SEP]\n",
        "\n",
        "  t1 = get_sem(sentence1)\n",
        "  t2 = get_sem(sentence2)\n",
        "  return ['[CLS]', *t1, '[SEP]', *t2, '[SEP]']\n",
        "\n",
        "def get_sem(sentence):\n",
        "  \"\"\" execute le Semantic role labeling sur la phrase tokenisé donnée. \n",
        "      Retourne un ensemble de \"O\" (~=unknown) si aucune représentation n'est trouvée\n",
        "      En cas d'ambiguité, retourne la représentation trouvant le plus grand nombre d'étiquettes\"\"\"\n",
        "  l = [d['tags'] for d in predictor.predict(sentence=sentence)['verbs']]\n",
        "  if len(l) == 0:\n",
        "    return np.full((1, sentence.count(\" \") + 1), 'O').tolist()[0]\n",
        "  index_best = np.array([labels.count('O') for labels in l]).argmin()\n",
        "  return l[index_best]"
      ],
      "execution_count": 0,
      "outputs": []
    },
    {
      "cell_type": "code",
      "metadata": {
        "id": "ij0hxmRZQUI2",
        "colab_type": "code",
        "colab": {}
      },
      "source": [
        "# Fonctions utilitaire pour faire du part of speech sur les WordPiece de bert\n",
        "def bert_token_to_regular(tokens):\n",
        "  \"\"\" Transforme les tokens pour bert de forme [\"sleep\", \"##ing\"] en tokens normal -> [\"sleeping\"] \"\"\"\n",
        "  out = []\n",
        "  for x in tokens:\n",
        "    if x[0:2] == \"##\":\n",
        "      out[-1] += x[2:]\n",
        "    else:\n",
        "      out.append(x)\n",
        "  return out\n",
        "\n",
        "def get_tags(tokens):\n",
        "  \"\"\" Etiquette les tokens \"\"\"\n",
        "  return [t for w,t in bert_token_to_regular(nltk.pos_tag(tokens))]\n",
        "\n",
        "def tags_to_bert(tags, bert_tokens):\n",
        "  \"\"\" Etiquette les tokens de bert a partir des tags normaux generés par bert_token_to_regular et get_tags \"\"\"\n",
        "  out = []\n",
        "  j = 0\n",
        "  for i, x in enumerate(bert_tokens):\n",
        "    if x[0:2] == \"##\":\n",
        "      out.append(out[-1])\n",
        "    elif x == \"[CLS]\" or x == \"[SEP]\":\n",
        "      out.append(\"[PAD]\")\n",
        "      j += 1\n",
        "    else:\n",
        "      out.append(tags[j])\n",
        "      j += 1\n",
        "  return out"
      ],
      "execution_count": 0,
      "outputs": []
    },
    {
      "cell_type": "code",
      "metadata": {
        "id": "TzPLDB6QWpT3",
        "colab_type": "code",
        "colab": {}
      },
      "source": [
        "# Formatte les données dans un format compatible avec BERT (tokenisation, conversion en input id, padding, masques d'attentions et format torch.tensor)\n",
        "# Inspiré du blog de Chris McCormick : https://mccormickml.com/2019/07/22/BERT-fine-tuning/\n",
        "MAX_LEN= 128\n",
        "def format_bert(data, _tokenizer):\n",
        "  \"\"\" Formate des donnees dans un dataframe ayant les colonnes [sentence1] [sentence2] afin quelle puisse etre utiliser avec la lib hungingface \"\"\"\n",
        "\n",
        "  print(\"\\nTokenize les entrées\"); start = time.time()\n",
        "  tokenized_texts = [[\"[CLS]\", *_tokenizer.tokenize(sent1), \"[SEP]\", *_tokenizer.tokenize(sent2), \"[SEP]\"] for sent1, sent2 in zip(data['sentence1'], data['sentence2'])]\n",
        "  print(\"\\tTerminé : {} secondes\".format(time.time() - start))\n",
        "  \n",
        "  if with_tags:\n",
        "    if with_srl:\n",
        "      print(\"Etiquetage de labels sémantiques\"); start = time.time()\n",
        "      tagged_texts = [tags_to_bert(get_semtags(bert_token_to_regular(tokens)), tokens) for tokens in tokenized_texts]\n",
        "    else:\n",
        "      print(\"Etiquetage morphosyntaxique\"); start = time.time()\n",
        "      tagged_texts = [tags_to_bert(get_tags(tokens), tokens) for tokens in tokenized_texts]\n",
        "    print(\"\\tTerminé : {} secondes\".format(time.time() - start))\n",
        "  else:\n",
        "    tagged_texts = None\n",
        "\n",
        "  print(\"Pad les entrées et les transformes en ids pour bert\"); start = time.time()\n",
        "  input_ids = pad_sequences([_tokenizer.convert_tokens_to_ids(txt) for txt in tokenized_texts], maxlen=MAX_LEN, dtype=\"long\", truncating=\"post\", padding=\"post\")\n",
        "  input_ids = [_tokenizer.convert_tokens_to_ids(x) for x in tokenized_texts]\n",
        "  input_ids = pad_sequences(input_ids, maxlen=MAX_LEN, dtype=\"long\", truncating=\"post\", padding=\"post\")\n",
        "  print(\"\\tTerminé : {} secondes\".format(time.time() - start))\n",
        "\n",
        "  print(\"Créer les masques d'attention (1 si un mot est présent)\"); start = time.time()\n",
        "  attention_masks = []\n",
        "  for seq in input_ids:\n",
        "    seq_mask = [float(i>0) for i in seq]\n",
        "    attention_masks.append(seq_mask)\n",
        "  print(\"\\tTerminé : {} secondes\".format(time.time() - start))\n",
        "  return input_ids, attention_masks, tagged_texts\n",
        "\n",
        "start = time.time()\n",
        "tokenizer = tokenizer_class.from_pretrained(bert_set, do_lower_case=True)\n",
        "\n",
        "# # Traiter les donnees train\n",
        "t_input_ids, t_attention_masks, t_semtags = format_bert(all_train_data, tokenizer)\n",
        "\n",
        "train_inputs = torch.tensor(t_input_ids)\n",
        "train_masks = torch.tensor(t_attention_masks)\n",
        "train_labels = torch.tensor(all_train_labels)\n",
        "\n",
        "\n",
        "# # Traiter les donnees validation\n",
        "v_input_ids, v_attention_masks, v_semtags = format_bert(all_valid_data, tokenizer)\n",
        "\n",
        "validation_inputs = torch.tensor(v_input_ids)\n",
        "validation_masks = torch.tensor(v_attention_masks)\n",
        "validation_labels = torch.tensor(all_valid_labels)\n",
        "\n",
        "\n",
        "# # Traiter les donnees de test\n",
        "te_input_ids, te_attention_masks, te_semtags= format_bert(all_test_data, tokenizer)\n",
        "\n",
        "testing_inputs = torch.tensor(te_input_ids)\n",
        "testing_masks = torch.tensor(te_attention_masks)\n",
        "testing_labels = torch.tensor(all_test_labels)\n",
        "\n",
        "# Transforme les semtags trouve precedemment en format categorique\n",
        "all_semtags = set()\n",
        "for semtags in t_semtags + v_semtags + te_semtags:\n",
        "  all_semtags = all_semtags.union(set(semtags))\n",
        "semtag_encoder = LabelEncoder()\n",
        "semtag_encoder.fit(list(all_semtags))\n",
        "\n",
        "def semtags_to_categorical(semtag_set):\n",
        "  for i, semtags in enumerate(semtag_set):\n",
        "    semtag_set[i] = semtag_encoder.transform(semtags)\n",
        "  semtag_set = pad_sequences(semtag_set, maxlen=MAX_LEN, dtype=\"long\", truncating=\"post\", padding=\"post\")\n",
        "  return semtag_set\n",
        "\n",
        "scaler = Normalizer(norm=\"max\")\n",
        "t_semtags = semtags_to_categorical(t_semtags)\n",
        "train_semtags = scaler.fit_transform(torch.tensor(t_semtags))\n",
        "\n",
        "v_semtags = semtags_to_categorical(v_semtags)\n",
        "validation_semtags = scaler.transform(torch.tensor(v_semtags))\n",
        "\n",
        "te_semtags = semtags_to_categorical(te_semtags)\n",
        "test_semtags = scaler.transform(torch.tensor(te_semtags))\n",
        "\n",
        "# Le traitement peut etre tres long. On sauvegarde la sortie dans des fichiers pour pouvoir iterer plus rapidement\n",
        "np.savetxt(os.path.join(prefix, 'train_inputs.csv'), train_inputs, delimiter=\",\")\n",
        "np.savetxt(os.path.join(prefix, 'train_masks.csv'), train_masks, delimiter=\",\")\n",
        "np.savetxt(os.path.join(prefix, 'train_labels.csv'), train_labels, delimiter=\",\")\n",
        "np.savetxt(os.path.join(prefix, 'train_semtags.csv'), train_semtags, delimiter=\",\")\n",
        "\n",
        "np.savetxt(os.path.join(prefix, 'validation_inputs.csv'), validation_inputs, delimiter=\",\")\n",
        "np.savetxt(os.path.join(prefix, 'validation_masks.csv'), validation_masks, delimiter=\",\")\n",
        "np.savetxt(os.path.join(prefix, 'validation_labels.csv'), validation_labels, delimiter=\",\")\n",
        "np.savetxt(os.path.join(prefix, 'validation_semtags.csv'), validation_semtags, delimiter=\",\")\n",
        "\n",
        "np.savetxt(os.path.join(prefix, 'testing_inputs.csv'), testing_inputs, delimiter=\",\")\n",
        "np.savetxt(os.path.join(prefix, 'testing_masks.csv'), testing_masks, delimiter=\",\")\n",
        "np.savetxt(os.path.join(prefix, 'testing_labels.csv'), testing_labels, delimiter=\",\")\n",
        "np.savetxt(os.path.join(prefix, 'test_semtags.csv'), test_semtags, delimiter=\",\")\n",
        "\n",
        "print(\"Terminé : {} secondes\".format(time.time() - start))"
      ],
      "execution_count": 0,
      "outputs": []
    },
    {
      "cell_type": "markdown",
      "metadata": {
        "id": "PfkjTU5Uapjx",
        "colab_type": "text"
      },
      "source": [
        "### Chargement des données"
      ]
    },
    {
      "cell_type": "code",
      "metadata": {
        "id": "X5QDNe10q5aA",
        "colab_type": "code",
        "colab": {}
      },
      "source": [
        "# Chargement des données pré-traité (voir cellule ci-dessus)\n",
        "train_inputs = torch.tensor(np.loadtxt(os.path.join(prefix, 'train_inputs1.csv'), delimiter=\",\")).long()\n",
        "train_masks = torch.tensor(np.loadtxt(os.path.join(prefix, 'train_masks1.csv'), delimiter=\",\")).long()\n",
        "train_labels = torch.tensor(np.loadtxt(os.path.join(prefix, 'train_labels1.csv'), delimiter=\",\")).long()\n",
        "train_semtags = torch.tensor(np.loadtxt(os.path.join(prefix, 'train_semtags1.csv'), delimiter=\",\")).float()\n",
        "\n",
        "validation_inputs = torch.tensor(np.loadtxt(os.path.join(prefix, 'validation_inputs1.csv'), delimiter=\",\")).long()\n",
        "validation_masks = torch.tensor(np.loadtxt(os.path.join(prefix, 'validation_masks1.csv'), delimiter=\",\")).long()\n",
        "validation_labels = torch.tensor(np.loadtxt(os.path.join(prefix, 'validation_labels1.csv'), delimiter=\",\")).long()\n",
        "validation_semtags = torch.tensor(np.loadtxt(os.path.join(prefix, 'validation_semtags1.csv'), delimiter=\",\"))\n",
        "\n",
        "testing_inputs = torch.tensor(np.loadtxt(os.path.join(prefix, 'testing_inputs1.csv'), delimiter=\",\")).long()\n",
        "testing_masks = torch.tensor(np.loadtxt(os.path.join(prefix, 'testing_masks1.csv'), delimiter=\",\")).long()\n",
        "testing_labels = torch.tensor(np.loadtxt(os.path.join(prefix, 'testing_labels1.csv'), delimiter=\",\")).long()\n",
        "test_semtags = torch.tensor(np.loadtxt(os.path.join(prefix, 'test_semtags1.csv'), delimiter=\",\")).float()"
      ],
      "execution_count": 0,
      "outputs": []
    },
    {
      "cell_type": "code",
      "metadata": {
        "id": "EooUnz18tbeI",
        "colab_type": "code",
        "colab": {}
      },
      "source": [
        "# Creer les datasets\n",
        "train_data = TensorDataset(train_inputs, train_masks, train_labels, train_semtags)\n",
        "train_sampler = RandomSampler(train_data)\n",
        "train_dataloader = DataLoader(train_data, sampler=train_sampler, batch_size=batch_size)\n",
        "\n",
        "validation_data = TensorDataset(validation_inputs, validation_masks, validation_labels, validation_semtags)\n",
        "validation_sampler = SequentialSampler(validation_data)\n",
        "validation_dataloader = DataLoader(validation_data, sampler=validation_sampler, batch_size=batch_size)\n",
        "\n",
        "testing_data = TensorDataset(testing_inputs, testing_masks, testing_labels, test_semtags)\n",
        "testing_sampler = SequentialSampler(testing_data)\n",
        "testing_dataloader = DataLoader(testing_data, sampler=testing_sampler, batch_size=batch_size)"
      ],
      "execution_count": 0,
      "outputs": []
    },
    {
      "cell_type": "code",
      "metadata": {
        "id": "Ud_t9sHlZu-W",
        "colab_type": "code",
        "colab": {}
      },
      "source": [
        "device = torch.device(\"cuda\" if torch.cuda.is_available() else \"cpu\")\n",
        "n_gpu = torch.cuda.device_count()\n",
        "torch.cuda.get_device_name(0)"
      ],
      "execution_count": 0,
      "outputs": []
    },
    {
      "cell_type": "markdown",
      "metadata": {
        "id": "bl7J89fYabne",
        "colab_type": "text"
      },
      "source": [
        "### Définition du Modèle"
      ]
    },
    {
      "cell_type": "code",
      "metadata": {
        "id": "hKIFpGWGe1E4",
        "colab_type": "code",
        "colab": {}
      },
      "source": [
        "class MLP(nn.Module):\n",
        "    \"\"\" Modèle PyTorch permettant de lier BERT à un MLP/couche de neuronnes \"\"\"\n",
        "    def __init__(self, with_tags):\n",
        "        super(MLP, self).__init__()\n",
        "        self.with_tags = with_tags\n",
        "        config = bert_config_class.from_pretrained(bert_set)\n",
        "        config.output_hidden_states = True\n",
        "        config.num_labels = 3\n",
        "\n",
        "        self.pool = nn.AvgPool1d(256, stride=1024)\n",
        "        self.bert = bert_class.from_pretrained(bert_set, config=config)\n",
        "        self.layers = nn.Sequential(\n",
        "            nn.Linear(256, 256),\n",
        "            nn.ReLU(),\n",
        "            nn.Linear(256, 256),\n",
        "            nn.ReLU(),\n",
        "            nn.Linear(256, 3)\n",
        "        )\n",
        "        self.mlp_loss = nn.CrossEntropyLoss()\n",
        "\n",
        "    def format_input(self, hidden_state_layer, tags):\n",
        "        \"\"\" Lie un couche caché de bert à un vecteur de tags unidimensionnel.\n",
        "            Utilise un algorithme de pooling (voir self.pool) pour transformer le layer en un vecteur 1d et le concatene avec les tags \"\"\"\n",
        "        b = self.pool(hidden_state_layer)\n",
        "        b = b.reshape((hidden_state_layer.shape[0], hidden_state_layer.shape[1])) \n",
        "        return torch.cat((b, tags.float()), 1)\n",
        "        \n",
        "    def forward(self, ids, attention_mask, tags, labels=None):\n",
        "        if labels is not None:\n",
        "          loss_bert, a, hidden_states = self.bert(ids, attention_mask=attention_mask, labels=labels)\n",
        "          if not self.with_tags:\n",
        "            return loss_bert\n",
        "          \n",
        "          mlp_inputs = self.format_input(hidden_states[-1], tags)\n",
        "          out_mlp = self.layers(mlp_inputs)\n",
        "          return loss_bert + self.mlp_loss(out_mlp, _labels)\n",
        "        else:\n",
        "          logits, hidden_states = self.bert(ids, attention_mask=attention_mask)\n",
        "          if not self.with_tags:\n",
        "            return logits\n",
        "          \n",
        "          mlp_inputs = self.format_input(hidden_states[-1], tags)\n",
        "          return self.layers(mlp_inputs)"
      ],
      "execution_count": 0,
      "outputs": []
    },
    {
      "cell_type": "markdown",
      "metadata": {
        "id": "rHHhlcTDx3UP",
        "colab_type": "text"
      },
      "source": [
        "### Entrainement du Baseline"
      ]
    },
    {
      "cell_type": "code",
      "metadata": {
        "id": "WAUcp-FQx2uX",
        "colab_type": "code",
        "colab": {}
      },
      "source": [
        "baseline = MLP(with_tags = False)\n",
        "model = baseline\n",
        "model.cuda()"
      ],
      "execution_count": 0,
      "outputs": []
    },
    {
      "cell_type": "code",
      "metadata": {
        "id": "SV-fPJSXx_bt",
        "colab_type": "code",
        "colab": {}
      },
      "source": [
        "# Entrainement et validation de BERT avec notre corpus\n",
        "def accuracy(got, expected):\n",
        "  \"\"\" Calcule le pourcentage des labels prédits correctement \"\"\"\n",
        "  got_flattened = np.argmax(got, axis=1).flatten()\n",
        "  expected_flattened = expected.flatten()\n",
        "  return np.sum(got_flattened == expected_flattened) / len(expected_flattened)\n",
        "\n",
        "# optimizer/settings de BERT\n",
        "param_optimizer = list(model.named_parameters())\n",
        "no_decay = ['bias', 'gamma', 'beta']\n",
        "optimizer_parameters = [\n",
        "    {'params': [p for n, p in param_optimizer if not any(nd in n for nd in no_decay)],\n",
        "     'weight_decay_rate': 0.01},\n",
        "    {'params': [p for n, p in param_optimizer if any(nd in n for nd in no_decay)],\n",
        "     'weight_decay_rate': 0.0}\n",
        "]\n",
        "optimizer = AdamW(optimizer_parameters, lr=2e-5, correct_bias=False)\n",
        "scheduler = get_linear_schedule_with_warmup(optimizer,num_warmup_steps=len(train_data)*0.05, num_training_steps=len(train_data)*0.95)\n",
        "\n",
        "# Store our loss and accuracy for plotting\n",
        "generations = 6\n",
        "for _ in trange(generations, desc=\"Generation\"):\n",
        "  # ==================== Training Step =======================\n",
        "  model.train()  \n",
        "  total_loss = 0\n",
        "  for group in train_dataloader:\n",
        "    group = tuple(t.to(device) for t in group) # Transfer le groupe sur le gpu\n",
        "    _input_ids, _input_mask, _labels, _tags = group\n",
        "\n",
        "    # Forward Pass\n",
        "    loss = model(_input_ids, attention_mask=_input_mask, tags=_tags, labels=_labels)\n",
        "\n",
        "    # Backpass\n",
        "    loss.backward()\n",
        "    optimizer.step()\n",
        "    scheduler.step()\n",
        "    optimizer.zero_grad() # Remet le gradient du loss/optimizer à Zero. Sinon ils s'accumulent à travers le groupes et pollue les résulats du backpass\n",
        "    total_loss += loss.item()\n",
        "    # ========================================================\n",
        "\n",
        "  # ==================== Validation Step =====================\n",
        "  model.eval()\n",
        "  total_valid_accuracy = 0\n",
        "  for group in validation_dataloader:\n",
        "    group = tuple(t.to(device) for t in group)\n",
        "    _input_ids, _input_mask, _labels, _tags = group\n",
        "\n",
        "    # Feedfoward : Utilise le logits comme prédiction\n",
        "    with torch.no_grad():\n",
        "        logits = model(_input_ids, attention_mask=_input_mask, tags=_tags)     \n",
        "    # Déplace le tout vers le CPU pour l'analyse\n",
        "    logits = logits.detach().cpu().numpy()\n",
        "    label_ids = _labels.to('cpu').numpy()\n",
        "    total_valid_accuracy += accuracy(logits, label_ids)\n",
        "    # ========================================================  \n",
        "  print(\"Loss: {}\\tVal Acc: {}\".format(\n",
        "      total_loss/len(train_dataloader),\n",
        "      total_valid_accuracy/len(validation_dataloader)))\n",
        "\n",
        "model_parameters = filter(lambda p: p.requires_grad, model.parameters())\n",
        "print(\"# Params : \", sum([np.prod(p.size()) for p in model_parameters]))"
      ],
      "execution_count": 0,
      "outputs": []
    },
    {
      "cell_type": "markdown",
      "metadata": {
        "id": "2NzTcBpB2IRS",
        "colab_type": "text"
      },
      "source": [
        "### Entrainement du Modèle"
      ]
    },
    {
      "cell_type": "code",
      "metadata": {
        "id": "3hww5MYLx5_u",
        "colab_type": "code",
        "colab": {}
      },
      "source": [
        "model = MLP(with_tags=with_tags)\n",
        "model.cuda()"
      ],
      "execution_count": 0,
      "outputs": []
    },
    {
      "cell_type": "code",
      "metadata": {
        "id": "1ZlQ7Pe-WpyZ",
        "colab_type": "code",
        "colab": {}
      },
      "source": [
        "# Entrainement et validation de BERT avec notre corpus\n",
        "def accuracy(got, expected):\n",
        "  \"\"\" Calcule le pourcentage des labels prédits correctement \"\"\"\n",
        "  got_flattened = np.argmax(got, axis=1).flatten()\n",
        "  expected_flattened = expected.flatten()\n",
        "  return np.sum(got_flattened == expected_flattened) / len(expected_flattened)\n",
        "\n",
        "# optimizer/settings de BERT\n",
        "param_optimizer = list(model.named_parameters())\n",
        "no_decay = ['bias', 'gamma', 'beta']\n",
        "optimizer_parameters = [\n",
        "    {'params': [p for n, p in param_optimizer if not any(nd in n for nd in no_decay)],\n",
        "     'weight_decay_rate': 0.01},\n",
        "    {'params': [p for n, p in param_optimizer if any(nd in n for nd in no_decay)],\n",
        "     'weight_decay_rate': 0.0}\n",
        "]\n",
        "optimizer = AdamW(optimizer_parameters, lr=2e-5, correct_bias=False)\n",
        "scheduler = get_linear_schedule_with_warmup(optimizer,num_warmup_steps=len(train_data)*0.05, num_training_steps=len(train_data)*0.95)\n",
        "\n",
        "# Store our loss and accuracy for plotting\n",
        "generations = 6\n",
        "for _ in trange(generations, desc=\"Generation\"):\n",
        "  # ==================== Training Step =======================\n",
        "  model.train()  \n",
        "  total_loss = 0\n",
        "  for group in train_dataloader:\n",
        "    group = tuple(t.to(device) for t in group) # Transfer le groupe sur le gpu\n",
        "    _input_ids, _input_mask, _labels, _tags = group\n",
        "\n",
        "    # Forward Pass\n",
        "    loss = model(_input_ids, attention_mask=_input_mask, tags=_tags, labels=_labels)\n",
        "\n",
        "    # Backpass\n",
        "    loss.backward()\n",
        "    optimizer.step()\n",
        "    scheduler.step()\n",
        "    optimizer.zero_grad() # Remet le gradient du loss/optimizer à Zero. Sinon ils s'accumulent à travers le groupes et pollue les résulats du backpass\n",
        "    total_loss += loss.item()\n",
        "    # ========================================================\n",
        "\n",
        "  # ==================== Validation Step =====================\n",
        "  model.eval()\n",
        "  total_valid_accuracy = 0\n",
        "  for group in validation_dataloader:\n",
        "    group = tuple(t.to(device) for t in group)\n",
        "    _input_ids, _input_mask, _labels, _tags = group\n",
        "\n",
        "    # Feedfoward : Utilise le logits comme prédiction\n",
        "    with torch.no_grad():\n",
        "        logits = model(_input_ids, attention_mask=_input_mask, tags=_tags)     \n",
        "    # Déplace le tout vers le CPU pour l'analyse\n",
        "    logits = logits.detach().cpu().numpy()\n",
        "    label_ids = _labels.to('cpu').numpy()\n",
        "    total_valid_accuracy += accuracy(logits, label_ids)\n",
        "    # ========================================================  \n",
        "  print(\"Loss: {}\\tVal Acc: {}\".format(\n",
        "      total_loss/len(train_dataloader),\n",
        "      total_valid_accuracy/len(validation_dataloader)))\n",
        "\n",
        "model_parameters = filter(lambda p: p.requires_grad, model.parameters())\n",
        "print(\"# Params : \", sum([np.prod(p.size()) for p in model_parameters]))"
      ],
      "execution_count": 0,
      "outputs": []
    },
    {
      "cell_type": "code",
      "metadata": {
        "id": "fRUmxXhLALYW",
        "colab_type": "code",
        "colab": {}
      },
      "source": [
        "# Enregistre le modèle dans un fichier. Permet de par la suit re-charger ce même modèle (voir cellule ci-dessous)\n",
        "\n",
        "date_time = datetime.now().strftime(\"%m-%d-%Y_%Hh%Mm%Ss\")\n",
        "torch.save(model, prefix + \"model_{}.pth\".format(date_time))"
      ],
      "execution_count": 0,
      "outputs": []
    },
    {
      "cell_type": "code",
      "metadata": {
        "id": "2pUHr9ehMzJd",
        "colab_type": "code",
        "colab": {}
      },
      "source": [
        "# Charge le modèle à partir d'un fichier. Soit pour continuer l'entrainement, soit pour générer les prédictions de test.\n",
        "\n",
        "# device = torch.device(\"cuda\" if torch.cuda.is_available() else \"cpu\")\n",
        "# n_gpu = torch.cuda.device_count()\n",
        "# torch.cuda.get_device_name(0)\n",
        "\n",
        "# model = torch.load(prefix + \"model_12-09-2019_01h00m52s.pth\")\n",
        "# model.cuda()"
      ],
      "execution_count": 0,
      "outputs": []
    },
    {
      "cell_type": "markdown",
      "metadata": {
        "id": "RruQiPs5aDdj",
        "colab_type": "text"
      },
      "source": [
        "### Validation du Modèle"
      ]
    },
    {
      "cell_type": "code",
      "metadata": {
        "id": "LXzFMa_H8-Qo",
        "colab_type": "code",
        "colab": {}
      },
      "source": [
        "# Entrainement et validation de BERT avec des donnees qu'il n'a jamais vues\n",
        "import time\n",
        "start = time.time()\n",
        "# ==================== Test Step =====================\n",
        "model.eval()\n",
        "num_steps, total_accuracy = 0, 0\n",
        "all_labels = None\n",
        "for group in testing_dataloader:\n",
        "  group = tuple(t.to(device) for t in group)\n",
        "  _input_ids, _input_mask, _labels, _tags = group\n",
        "\n",
        "  # Feedfoward : Utilise le logits comme prédiction\n",
        "  with torch.no_grad():\n",
        "      logits = model(_input_ids, attention_mask=_input_mask, tags=_tags)     \n",
        "  # Déplace le tout vers le CPU pour l'analyse\n",
        "  logits = logits.detach().cpu().numpy()\n",
        "  label_ids = _labels.to('cpu').numpy()\n",
        "  pred_labels = np.argmax(logits, axis=1).flatten()\n",
        "  total_accuracy += sklearn.metrics.accuracy_score(pred_labels, label_ids)\n",
        "  if all_labels is None:\n",
        "    all_labels = pred_labels\n",
        "  else:\n",
        "    all_labels = np.hstack((all_labels, pred_labels))\n",
        "\n",
        "  num_steps += 1\n",
        "  # ========================================================  \n",
        "print(\"Val Acc: {}\".format(total_accuracy/num_steps))\n",
        "print(\"Took : {} seconds\".format(time.time() - start))"
      ],
      "execution_count": 0,
      "outputs": []
    },
    {
      "cell_type": "code",
      "metadata": {
        "id": "MvGTyM9cPcQc",
        "colab_type": "code",
        "colab": {}
      },
      "source": [
        "# Copié de : https://matplotlib.org/3.1.1/gallery/images_contours_and_fields/image_annotated_heatmap.html\n",
        "import numpy as np\n",
        "import matplotlib\n",
        "import matplotlib.pyplot as plt\n",
        "def heatmap(data, row_labels, col_labels, ax=None,\n",
        "            cbar_kw={}, cbarlabel=\"\", **kwargs):\n",
        "    \"\"\"\n",
        "    Create a heatmap from a numpy array and two lists of labels.\n",
        "\n",
        "    Parameters\n",
        "    ----------\n",
        "    data\n",
        "        A 2D numpy array of shape (N, M).\n",
        "    row_labels\n",
        "        A list or array of length N with the labels for the rows.\n",
        "    col_labels\n",
        "        A list or array of length M with the labels for the columns.\n",
        "    ax\n",
        "        A `matplotlib.axes.Axes` instance to which the heatmap is plotted.  If\n",
        "        not provided, use current axes or create a new one.  Optional.\n",
        "    cbar_kw\n",
        "        A dictionary with arguments to `matplotlib.Figure.colorbar`.  Optional.\n",
        "    cbarlabel\n",
        "        The label for the colorbar.  Optional.\n",
        "    **kwargs\n",
        "        All other arguments are forwarded to `imshow`.\n",
        "    \"\"\"\n",
        "\n",
        "    if not ax:\n",
        "        ax = plt.gca()\n",
        "\n",
        "    # Plot the heatmap\n",
        "    im = ax.imshow(data, **kwargs)\n",
        "\n",
        "    # Create colorbar\n",
        "    cbar = ax.figure.colorbar(im, ax=ax, **cbar_kw)\n",
        "    cbar.ax.set_ylabel(cbarlabel, rotation=-90, va=\"bottom\")\n",
        "\n",
        "    # We want to show all ticks...\n",
        "    ax.set_xticks(np.arange(data.shape[1]))\n",
        "    ax.set_yticks(np.arange(data.shape[0]))\n",
        "    # ... and label them with the respective list entries.\n",
        "    ax.set_xticklabels(col_labels)\n",
        "    ax.set_yticklabels(row_labels)\n",
        "\n",
        "    # Let the horizontal axes labeling appear on top.\n",
        "    ax.tick_params(top=True, bottom=False,\n",
        "                   labeltop=True, labelbottom=False)\n",
        "\n",
        "    # Rotate the tick labels and set their alignment.\n",
        "    plt.setp(ax.get_xticklabels(), rotation=-30, ha=\"right\",\n",
        "             rotation_mode=\"anchor\")\n",
        "\n",
        "    # Turn spines off and create white grid.\n",
        "    for edge, spine in ax.spines.items():\n",
        "        spine.set_visible(False)\n",
        "\n",
        "    ax.set_xticks(np.arange(data.shape[1]+1)-.5, minor=True)\n",
        "    ax.set_yticks(np.arange(data.shape[0]+1)-.5, minor=True)\n",
        "    ax.grid(which=\"minor\", color=\"w\", linestyle='-', linewidth=3)\n",
        "    ax.tick_params(which=\"minor\", bottom=False, left=False)\n",
        "\n",
        "    return im, cbar\n",
        "\n",
        "\n",
        "def annotate_heatmap(im, data=None, valfmt=\"{x:.2f}\",\n",
        "                     textcolors=[\"black\", \"white\"],\n",
        "                     threshold=None, **textkw):\n",
        "    \"\"\"\n",
        "    A function to annotate a heatmap.\n",
        "\n",
        "    Parameters\n",
        "    ----------\n",
        "    im\n",
        "        The AxesImage to be labeled.\n",
        "    data\n",
        "        Data used to annotate.  If None, the image's data is used.  Optional.\n",
        "    valfmt\n",
        "        The format of the annotations inside the heatmap.  This should either\n",
        "        use the string format method, e.g. \"$ {x:.2f}\", or be a\n",
        "        `matplotlib.ticker.Formatter`.  Optional.\n",
        "    textcolors\n",
        "        A list or array of two color specifications.  The first is used for\n",
        "        values below a threshold, the second for those above.  Optional.\n",
        "    threshold\n",
        "        Value in data units according to which the colors from textcolors are\n",
        "        applied.  If None (the default) uses the middle of the colormap as\n",
        "        separation.  Optional.\n",
        "    **kwargs\n",
        "        All other arguments are forwarded to each call to `text` used to create\n",
        "        the text labels.\n",
        "    \"\"\"\n",
        "\n",
        "    if not isinstance(data, (list, np.ndarray)):\n",
        "        data = im.get_array()\n",
        "\n",
        "    # Normalize the threshold to the images color range.\n",
        "    if threshold is not None:\n",
        "        threshold = im.norm(threshold)\n",
        "    else:\n",
        "        threshold = im.norm(data.max())/2.\n",
        "\n",
        "    # Set default alignment to center, but allow it to be\n",
        "    # overwritten by textkw.\n",
        "    kw = dict(horizontalalignment=\"center\",\n",
        "              verticalalignment=\"center\")\n",
        "    kw.update(textkw)\n",
        "\n",
        "    # Get the formatter in case a string is supplied\n",
        "    if isinstance(valfmt, str):\n",
        "        valfmt = matplotlib.ticker.StrMethodFormatter(valfmt)\n",
        "\n",
        "    # Loop over the data and create a `Text` for each \"pixel\".\n",
        "    # Change the text's color depending on the data.\n",
        "    texts = []\n",
        "    for i in range(data.shape[0]):\n",
        "        for j in range(data.shape[1]):\n",
        "            kw.update(color=textcolors[int(im.norm(data[i, j]) > threshold)])\n",
        "            text = im.axes.text(j, i, valfmt(data[i, j], None), **kw)\n",
        "            texts.append(text)\n",
        "\n",
        "    return texts"
      ],
      "execution_count": 0,
      "outputs": []
    },
    {
      "cell_type": "code",
      "metadata": {
        "id": "sx0btKf9JeiH",
        "colab_type": "code",
        "colab": {}
      },
      "source": [
        "from collections import defaultdict\n",
        "total_contradiction = len([x for x in all_test_data[\"label1\"] if x == \"contradiction\"])\n",
        "total_entailment = len([x for x in all_test_data[\"label1\"] if x == \"entailment\"])\n",
        "total_neutral = len([x for x in all_test_data[\"label1\"] if x == \"neutral\"])\n",
        "\n",
        "print(\"Total Contradiction : \", total_contradiction)\n",
        "print(\"Total Entailment : \", total_entailment)\n",
        "print(\"Total Neutral : \", total_neutral)\n",
        "\n",
        "string_labels = label_encoder.inverse_transform(all_labels)\n",
        "pred_contradiction = len([x for x in string_labels if x == \"contradiction\"])\n",
        "pred_entailment = len([x for x in string_labels if x == \"entailment\"])\n",
        "pred_neutral = len([x for x in string_labels if x == \"neutral\"])\n",
        "\n",
        "print(\"\\nPred Contradiction : \", pred_contradiction)\n",
        "print(\"Pred Entailment : \", pred_entailment)\n",
        "print(\"Pred Neutral : \", pred_neutral)\n",
        "\n",
        "d = {'contradiction': defaultdict(int), 'entailment': defaultdict(int), 'neutral': defaultdict(int)}\n",
        "for i in range(len(string_labels)):\n",
        "  d[all_test_data[\"label1\"][i]][string_labels[i]] += 1\n",
        "data = np.array([[d['contradiction']['contradiction']/total_contradiction, d['contradiction']['entailment']/total_contradiction, d['contradiction']['neutral']/total_contradiction],\n",
        "        [d['entailment']['contradiction']/total_entailment, d['entailment']['entailment']/total_entailment, d['entailment']['neutral']/total_entailment],\n",
        "        [d['neutral']['contradiction']/total_neutral, d['neutral']['entailment']/total_neutral, d['neutral']['neutral']/total_neutral]])\n",
        "data"
      ],
      "execution_count": 0,
      "outputs": []
    },
    {
      "cell_type": "code",
      "metadata": {
        "id": "DV-rn-1iPd68",
        "colab_type": "code",
        "colab": {
          "base_uri": "https://localhost:8080/",
          "height": 297
        },
        "outputId": "baaa33d2-1544-47c3-8dac-5f3d0a66df93"
      },
      "source": [
        "# Genere un graphique permettant la comparaison des performances selon les différences classes\n",
        "# Heatmap de prediction vs réalité par classe\n",
        "fig, ax = plt.subplots()\n",
        "headers = [\"Contradiction\", \"Entailment\", \"Neutral\"]\n",
        "im, cbar = heatmap(data, headers, headers, ax=ax,\n",
        "                   cmap=\"YlGn\", cbarlabel=\"\")\n",
        "texts = annotate_heatmap(im, valfmt=\"{x:.2f}\")\n",
        "ax.set_title(\"Distribution des prédictions selon leurs vraies classes\")\n",
        "ax.set_ylabel(\"Classe Attendue\")\n",
        "ax.set_xlabel(\"Classe Prédite\")\n",
        "fig.tight_layout()\n",
        "# fig.set_size_inches(18.5, 10.5)\n",
        "fig.savefig(prefix + \"pred_vs_real.png\", dpi=100)\n",
        "plt.show()"
      ],
      "execution_count": 64,
      "outputs": [
        {
          "output_type": "display_data",
          "data": {
            "image/png": "[encoded data removed]",
            "text/plain": [
              "<Figure size 432x288 with 2 Axes>"
            ]
          },
          "metadata": {
            "tags": []
          }
        }
      ]
    },
    {
      "cell_type": "markdown",
      "metadata": {
        "id": "egy-WnMIaQbs",
        "colab_type": "text"
      },
      "source": [
        "### Generation des résultats sur snli_test.csv\n"
      ]
    },
    {
      "cell_type": "code",
      "metadata": {
        "id": "eGPbOM12aPZB",
        "colab_type": "code",
        "colab": {}
      },
      "source": [
        "# Lecture des données d'entraînement\n",
        "start = time.time()\n",
        "f_test_data = pd.read_csv(os.path.join(prefix, 'snli_test.csv'))\n",
        "test_ids, test_masks, test_semtags = format_bert(f_test_data, tokenizer)\n",
        "\n",
        "test_tags = tags_to_categorical(test_semtags)\n",
        "\n",
        "test_tags = torch.tensor(test_tags)\n",
        "test_ids = torch.tensor(test_ids)\n",
        "test_masks = torch.tensor(test_masks)\n",
        "\n",
        "t_data = TensorDataset(test_ids, test_masks, test_tags)\n",
        "t_sampler = SequentialSampler(t_data)\n",
        "test_dataloader = DataLoader(t_data, sampler=t_sampler, batch_size=batch_size)\n",
        "print(\"Terminé : {} secondes\".format(time.time() - start))"
      ],
      "execution_count": 0,
      "outputs": []
    },
    {
      "cell_type": "code",
      "metadata": {
        "id": "WHk2nVPYbVIK",
        "colab_type": "code",
        "colab": {}
      },
      "source": [
        "import time\n",
        "start = time.time()\n",
        "# ==================== Predicting Step =====================\n",
        "model.eval()\n",
        "num_steps, total_accuracy = 0, 0\n",
        "all_labels = None\n",
        "for group in test_dataloader:\n",
        "  group = tuple(t.to(device) for t in group)\n",
        "  _input_ids, _input_mask, _tags = group\n",
        "  with torch.no_grad():\n",
        "      logits = model(_input_ids, attention_mask=_input_mask, tags=_tags)     \n",
        "  # Déplace le tout vers le CPU pour utilisation ultérieure\n",
        "  logits = logits.detach().cpu().numpy()\n",
        "  labels = np.argmax(logits, axis=1).flatten()\n",
        "  if all_labels is None:\n",
        "    all_labels = labels\n",
        "  else:\n",
        "    all_labels = np.hstack((all_labels, labels))\n",
        "  num_steps += 1\n",
        "  # ========================================================  \n",
        "print(\"Took : {} seconds\".format(time.time() - start))\n",
        "f_test_data[\"label1\"] = label_encoder.inverse_transform(all_labels)"
      ],
      "execution_count": 0,
      "outputs": []
    },
    {
      "cell_type": "code",
      "metadata": {
        "id": "-gYfVpnpFXmA",
        "colab_type": "code",
        "colab": {}
      },
      "source": [
        "# Écrit le fichier de soumission\n",
        "submission = f_test_data[[\"id\", \"label1\"]]\n",
        "submission.to_csv(prefix + '/submission.csv', index=False)\n",
        "submission.head()"
      ],
      "execution_count": 0,
      "outputs": []
    }
  ]
}