{
 "cells": [
  {
   "cell_type": "code",
   "execution_count": 20,
   "metadata": {},
   "outputs": [],
   "source": [
    "import numpy as np\n",
    "import pandas as pd\n",
    "import sklearn\n",
    "from sklearn.model_selection import train_test_split\n",
    "import os"
   ]
  },
  {
   "cell_type": "markdown",
   "metadata": {},
   "source": [
    "## Chargement des Données"
   ]
  },
  {
   "cell_type": "code",
   "execution_count": 5,
   "metadata": {
    "_cell_guid": "b1076dfc-b9ad-4769-8c92-a6c4dae69d19",
    "_uuid": "8f2839f25d086af736a60e9eeb907d3b93b6e0e5"
   },
   "outputs": [],
   "source": [
    "# Les données sont accessibles dans \"/kaggle/input/\".\n",
    "# Ici, on affiche le contenu du dossier et des sous-dossiers\n",
    "data_dir = './data/'\n",
    "\n",
    "for dirname, _, filenames in os.walk('/kaggle/input'):\n",
    "    for filename in filenames:\n",
    "        print(os.path.join(dirname, filename))"
   ]
  },
  {
   "cell_type": "code",
   "execution_count": 24,
   "metadata": {
    "_cell_guid": "79c7e3d0-c299-4dcb-8224-4455121ee9b0",
    "_uuid": "d629ff2d2480ee46fbb7e2d37f6b5fab8052498a"
   },
   "outputs": [
    {
     "data": {
      "text/html": [
       "<div>\n",
       "<style scoped>\n",
       "    .dataframe tbody tr th:only-of-type {\n",
       "        vertical-align: middle;\n",
       "    }\n",
       "\n",
       "    .dataframe tbody tr th {\n",
       "        vertical-align: top;\n",
       "    }\n",
       "\n",
       "    .dataframe thead th {\n",
       "        text-align: right;\n",
       "    }\n",
       "</style>\n",
       "<table border=\"1\" class=\"dataframe\">\n",
       "  <thead>\n",
       "    <tr style=\"text-align: right;\">\n",
       "      <th></th>\n",
       "      <th>sentence1</th>\n",
       "      <th>sentence2</th>\n",
       "      <th>label1</th>\n",
       "      <th>id</th>\n",
       "    </tr>\n",
       "  </thead>\n",
       "  <tbody>\n",
       "    <tr>\n",
       "      <td>100763</td>\n",
       "      <td>A person riding a dirt bike on mud</td>\n",
       "      <td>A person is on their dirt bike.</td>\n",
       "      <td>entailment</td>\n",
       "      <td>100766</td>\n",
       "    </tr>\n",
       "    <tr>\n",
       "      <td>255342</td>\n",
       "      <td>A muzzled greyhound dog wearing yellow and bla...</td>\n",
       "      <td>Three horses compete in a race.</td>\n",
       "      <td>contradiction</td>\n",
       "      <td>255345</td>\n",
       "    </tr>\n",
       "    <tr>\n",
       "      <td>193862</td>\n",
       "      <td>A group of people look on as a large bunch of ...</td>\n",
       "      <td>A bunch of people are about to get in the water.</td>\n",
       "      <td>entailment</td>\n",
       "      <td>193865</td>\n",
       "    </tr>\n",
       "    <tr>\n",
       "      <td>329443</td>\n",
       "      <td>Girls with orange hair standing on the street ...</td>\n",
       "      <td>A girl with orange hair riding a bicycle.</td>\n",
       "      <td>contradiction</td>\n",
       "      <td>329449</td>\n",
       "    </tr>\n",
       "    <tr>\n",
       "      <td>96995</td>\n",
       "      <td>Two middle-aged men try to operate what looks ...</td>\n",
       "      <td>Two guys over 30 are fiddling with a magnifier.</td>\n",
       "      <td>entailment</td>\n",
       "      <td>96998</td>\n",
       "    </tr>\n",
       "  </tbody>\n",
       "</table>\n",
       "</div>"
      ],
      "text/plain": [
       "                                                sentence1  \\\n",
       "100763                 A person riding a dirt bike on mud   \n",
       "255342  A muzzled greyhound dog wearing yellow and bla...   \n",
       "193862  A group of people look on as a large bunch of ...   \n",
       "329443  Girls with orange hair standing on the street ...   \n",
       "96995   Two middle-aged men try to operate what looks ...   \n",
       "\n",
       "                                               sentence2         label1  \\\n",
       "100763                   A person is on their dirt bike.     entailment   \n",
       "255342                   Three horses compete in a race.  contradiction   \n",
       "193862  A bunch of people are about to get in the water.     entailment   \n",
       "329443         A girl with orange hair riding a bicycle.  contradiction   \n",
       "96995    Two guys over 30 are fiddling with a magnifier.     entailment   \n",
       "\n",
       "            id  \n",
       "100763  100766  \n",
       "255342  255345  \n",
       "193862  193865  \n",
       "329443  329449  \n",
       "96995    96998  "
      ]
     },
     "execution_count": 24,
     "metadata": {},
     "output_type": "execute_result"
    }
   ],
   "source": [
    "# Lecture des données d'entraînement\n",
    "train_data = pd.read_csv(os.path.join(data_dir, 'snli_train.csv'))\n",
    "train_data.head()\n",
    "\n",
    "train_data, validation_data = train_test_split(train_data, test_size=0.2)\n",
    "train_data.head()"
   ]
  },
  {
   "cell_type": "markdown",
   "metadata": {},
   "source": [
    "## Prétraitement"
   ]
  },
  {
   "cell_type": "code",
   "execution_count": null,
   "metadata": {},
   "outputs": [],
   "source": []
  },
  {
   "cell_type": "markdown",
   "metadata": {},
   "source": [
    "## Plongement"
   ]
  },
  {
   "cell_type": "code",
   "execution_count": null,
   "metadata": {},
   "outputs": [],
   "source": []
  },
  {
   "cell_type": "markdown",
   "metadata": {},
   "source": [
    "## Entrainement du modèle"
   ]
  },
  {
   "cell_type": "code",
   "execution_count": null,
   "metadata": {},
   "outputs": [],
   "source": [
    "# Ici, vous devez écrire votre modèle\n",
    "\n",
    "# Le format idéalisé ressemblerait à :\n",
    "#\n",
    "# model = NLPModel\n",
    "# model.learn(train_data)\n",
    "# submission['score'] = model.predict(test_data)"
   ]
  },
  {
   "cell_type": "markdown",
   "metadata": {},
   "source": [
    "## Validation du modèle"
   ]
  },
  {
   "cell_type": "code",
   "execution_count": null,
   "metadata": {},
   "outputs": [],
   "source": [
    "test_data = pd.read_csv(os.path.join(data_dir, 'snli_test.csv'))\n",
    "test_data.head()\n",
    "\n",
    "# Dans ce notebook, on fait juste des prédictions aléatoires \n",
    "labels = train_data.label1.unique()\n",
    "\n",
    "test_data[\"label1\"] = np.random.choice(labels, size=len(test_data))\n",
    "submission = test_data[[\"id\", \"label1\"]]\n",
    "submission.head()"
   ]
  },
  {
   "cell_type": "code",
   "execution_count": null,
   "metadata": {},
   "outputs": [],
   "source": [
    "# calcul de l'accuracy"
   ]
  },
  {
   "cell_type": "markdown",
   "metadata": {},
   "source": [
    "## Enregistrement de la soumission"
   ]
  },
  {
   "cell_type": "code",
   "execution_count": 10,
   "metadata": {},
   "outputs": [],
   "source": [
    "# On sauvegarde nos prédictions dans un fichier\n",
    "# On peut alors soumettre ce fichier à Kaggle pour l'évaluation\n",
    "submission.to_csv('./out/submission.csv', index=False)"
   ]
  },
  {
   "cell_type": "code",
   "execution_count": null,
   "metadata": {},
   "outputs": [],
   "source": []
  }
 ],
 "metadata": {
  "kernelspec": {
   "display_name": "Python 3",
   "language": "python",
   "name": "python3"
  },
  "language_info": {
   "codemirror_mode": {
    "name": "ipython",
    "version": 3
   },
   "file_extension": ".py",
   "mimetype": "text/x-python",
   "name": "python",
   "nbconvert_exporter": "python",
   "pygments_lexer": "ipython3",
   "version": "3.7.4"
  }
 },
 "nbformat": 4,
 "nbformat_minor": 1
}
