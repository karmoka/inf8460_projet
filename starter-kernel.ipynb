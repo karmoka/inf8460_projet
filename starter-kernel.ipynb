{
 "cells": [
  {
   "cell_type": "code",
   "execution_count": 25,
   "metadata": {},
   "outputs": [],
   "source": [
    "import numpy as np\n",
    "import pandas as pd\n",
    "import sklearn\n",
    "from sklearn.model_selection import train_test_split\n",
    "import os"
   ]
  },
  {
   "cell_type": "markdown",
   "metadata": {},
   "source": [
    "## Chargement des Données"
   ]
  },
  {
   "cell_type": "code",
   "execution_count": 26,
   "metadata": {
    "_cell_guid": "b1076dfc-b9ad-4769-8c92-a6c4dae69d19",
    "_uuid": "8f2839f25d086af736a60e9eeb907d3b93b6e0e5"
   },
   "outputs": [],
   "source": [
    "# Les données sont accessibles dans \"/kaggle/input/\".\n",
    "# Ici, on affiche le contenu du dossier et des sous-dossiers\n",
    "data_dir = './data/'\n",
    "\n",
    "for dirname, _, filenames in os.walk('/kaggle/input'):\n",
    "    for filename in filenames:\n",
    "        print(os.path.join(dirname, filename))"
   ]
  },
  {
   "cell_type": "code",
   "execution_count": 27,
   "metadata": {
    "_cell_guid": "79c7e3d0-c299-4dcb-8224-4455121ee9b0",
    "_uuid": "d629ff2d2480ee46fbb7e2d37f6b5fab8052498a"
   },
   "outputs": [
    {
     "data": {
      "text/html": [
       "<div>\n",
       "<style scoped>\n",
       "    .dataframe tbody tr th:only-of-type {\n",
       "        vertical-align: middle;\n",
       "    }\n",
       "\n",
       "    .dataframe tbody tr th {\n",
       "        vertical-align: top;\n",
       "    }\n",
       "\n",
       "    .dataframe thead th {\n",
       "        text-align: right;\n",
       "    }\n",
       "</style>\n",
       "<table border=\"1\" class=\"dataframe\">\n",
       "  <thead>\n",
       "    <tr style=\"text-align: right;\">\n",
       "      <th></th>\n",
       "      <th>sentence1</th>\n",
       "      <th>sentence2</th>\n",
       "      <th>label1</th>\n",
       "      <th>id</th>\n",
       "    </tr>\n",
       "  </thead>\n",
       "  <tbody>\n",
       "    <tr>\n",
       "      <td>79019</td>\n",
       "      <td>A group of little girls wearing headscarfs pos...</td>\n",
       "      <td>Girls are wearing headscarves.</td>\n",
       "      <td>entailment</td>\n",
       "      <td>79019</td>\n",
       "    </tr>\n",
       "    <tr>\n",
       "      <td>243912</td>\n",
       "      <td>Two shirtless little boys, one leaning on the ...</td>\n",
       "      <td>Two boys are standing on a large rock in a for...</td>\n",
       "      <td>neutral</td>\n",
       "      <td>243915</td>\n",
       "    </tr>\n",
       "    <tr>\n",
       "      <td>360277</td>\n",
       "      <td>A person with a shaved head, umbrella, and red...</td>\n",
       "      <td>A shave headed person is looking for oncoming ...</td>\n",
       "      <td>neutral</td>\n",
       "      <td>360283</td>\n",
       "    </tr>\n",
       "    <tr>\n",
       "      <td>359845</td>\n",
       "      <td>A girl in a pink shirt is reading a book on an...</td>\n",
       "      <td>A young woman plays darts.</td>\n",
       "      <td>contradiction</td>\n",
       "      <td>359851</td>\n",
       "    </tr>\n",
       "    <tr>\n",
       "      <td>332090</td>\n",
       "      <td>A man climes out of a hole in the ice up a woo...</td>\n",
       "      <td>A man is on a ladder.</td>\n",
       "      <td>entailment</td>\n",
       "      <td>332096</td>\n",
       "    </tr>\n",
       "  </tbody>\n",
       "</table>\n",
       "</div>"
      ],
      "text/plain": [
       "                                                sentence1  \\\n",
       "79019   A group of little girls wearing headscarfs pos...   \n",
       "243912  Two shirtless little boys, one leaning on the ...   \n",
       "360277  A person with a shaved head, umbrella, and red...   \n",
       "359845  A girl in a pink shirt is reading a book on an...   \n",
       "332090  A man climes out of a hole in the ice up a woo...   \n",
       "\n",
       "                                                sentence2         label1  \\\n",
       "79019                      Girls are wearing headscarves.     entailment   \n",
       "243912  Two boys are standing on a large rock in a for...        neutral   \n",
       "360277  A shave headed person is looking for oncoming ...        neutral   \n",
       "359845                         A young woman plays darts.  contradiction   \n",
       "332090                              A man is on a ladder.     entailment   \n",
       "\n",
       "            id  \n",
       "79019    79019  \n",
       "243912  243915  \n",
       "360277  360283  \n",
       "359845  359851  \n",
       "332090  332096  "
      ]
     },
     "execution_count": 27,
     "metadata": {},
     "output_type": "execute_result"
    }
   ],
   "source": [
    "# Lecture des données d'entraînement\n",
    "train_data = pd.read_csv(os.path.join(data_dir, 'snli_train.csv'))\n",
    "train_data.head()\n",
    "\n",
    "train_data, validation_data = train_test_split(train_data, test_size=0.2)\n",
    "train_data.head()"
   ]
  },
  {
   "cell_type": "markdown",
   "metadata": {},
   "source": [
    "## Prétraitement"
   ]
  },
  {
   "cell_type": "code",
   "execution_count": null,
   "metadata": {},
   "outputs": [],
   "source": []
  },
  {
   "cell_type": "markdown",
   "metadata": {},
   "source": [
    "## Plongement"
   ]
  },
  {
   "cell_type": "code",
   "execution_count": null,
   "metadata": {},
   "outputs": [],
   "source": []
  },
  {
   "cell_type": "markdown",
   "metadata": {},
   "source": [
    "## Entrainement du modèle"
   ]
  },
  {
   "cell_type": "code",
   "execution_count": 41,
   "metadata": {},
   "outputs": [],
   "source": [
    "# Ici, vous devez écrire votre modèle\n",
    "\n",
    "# Le format idéalisé ressemblerait à :\n",
    "#\n",
    "# model = NLPModel\n",
    "# model.learn(train_data)\n",
    "# submission['score'] = model.predict(test_data)\n"
   ]
  },
  {
   "cell_type": "markdown",
   "metadata": {},
   "source": [
    "## Validation du modèle"
   ]
  },
  {
   "cell_type": "code",
   "execution_count": 42,
   "metadata": {},
   "outputs": [
    {
     "data": {
      "text/plain": [
       "0.33046474970873596"
      ]
     },
     "execution_count": 42,
     "metadata": {},
     "output_type": "execute_result"
    }
   ],
   "source": [
    "# calcul de l'accuracy\n",
    "labels = train_data.label1.unique() # Placeholder le temps que l'on ait un vrai model. Calcule l'accuracy d'un modèle aléatoire\n",
    "validation_copy = validation_data.copy()\n",
    "validation_copy[\"label1\"] = np.random.choice(labels, size=len(validation_copy))\n",
    "\n",
    "sklearn.metrics.accuracy_score(validation_data[\"label1\"], validation_copy[\"label1\"])"
   ]
  },
  {
   "cell_type": "markdown",
   "metadata": {},
   "source": [
    "## Prediction des données de test"
   ]
  },
  {
   "cell_type": "code",
   "execution_count": 33,
   "metadata": {},
   "outputs": [],
   "source": [
    "# Dans ce notebook, on fait juste des prédictions aléatoires\n",
    "test_data = pd.read_csv(os.path.join(data_dir, 'snli_test.csv'))\n",
    "test_data[\"label1\"] = np.random.choice(labels, size=len(test_data))"
   ]
  },
  {
   "cell_type": "markdown",
   "metadata": {},
   "source": [
    "## Enregistrement de la soumission"
   ]
  },
  {
   "cell_type": "code",
   "execution_count": 31,
   "metadata": {},
   "outputs": [
    {
     "data": {
      "text/html": [
       "<div>\n",
       "<style scoped>\n",
       "    .dataframe tbody tr th:only-of-type {\n",
       "        vertical-align: middle;\n",
       "    }\n",
       "\n",
       "    .dataframe tbody tr th {\n",
       "        vertical-align: top;\n",
       "    }\n",
       "\n",
       "    .dataframe thead th {\n",
       "        text-align: right;\n",
       "    }\n",
       "</style>\n",
       "<table border=\"1\" class=\"dataframe\">\n",
       "  <thead>\n",
       "    <tr style=\"text-align: right;\">\n",
       "      <th></th>\n",
       "      <th>id</th>\n",
       "      <th>label1</th>\n",
       "    </tr>\n",
       "  </thead>\n",
       "  <tbody>\n",
       "    <tr>\n",
       "      <td>0</td>\n",
       "      <td>1000000</td>\n",
       "      <td>entailment</td>\n",
       "    </tr>\n",
       "    <tr>\n",
       "      <td>1</td>\n",
       "      <td>1000001</td>\n",
       "      <td>neutral</td>\n",
       "    </tr>\n",
       "    <tr>\n",
       "      <td>2</td>\n",
       "      <td>1000002</td>\n",
       "      <td>entailment</td>\n",
       "    </tr>\n",
       "    <tr>\n",
       "      <td>3</td>\n",
       "      <td>1000003</td>\n",
       "      <td>entailment</td>\n",
       "    </tr>\n",
       "    <tr>\n",
       "      <td>4</td>\n",
       "      <td>1000004</td>\n",
       "      <td>neutral</td>\n",
       "    </tr>\n",
       "  </tbody>\n",
       "</table>\n",
       "</div>"
      ],
      "text/plain": [
       "        id      label1\n",
       "0  1000000  entailment\n",
       "1  1000001     neutral\n",
       "2  1000002  entailment\n",
       "3  1000003  entailment\n",
       "4  1000004     neutral"
      ]
     },
     "execution_count": 31,
     "metadata": {},
     "output_type": "execute_result"
    }
   ],
   "source": [
    "# On sauvegarde nos prédictions dans un fichier\n",
    "# On peut alors soumettre ce fichier à Kaggle pour l'évaluation\n",
    "submission = test_data[[\"id\", \"label1\"]]\n",
    "submission.to_csv('./out/submission.csv', index=False)\n",
    "submission.head()"
   ]
  },
  {
   "cell_type": "code",
   "execution_count": null,
   "metadata": {},
   "outputs": [],
   "source": []
  }
 ],
 "metadata": {
  "kernelspec": {
   "display_name": "Python 3",
   "language": "python",
   "name": "python3"
  },
  "language_info": {
   "codemirror_mode": {
    "name": "ipython",
    "version": 3
   },
   "file_extension": ".py",
   "mimetype": "text/x-python",
   "name": "python",
   "nbconvert_exporter": "python",
   "pygments_lexer": "ipython3",
   "version": "3.7.4"
  }
 },
 "nbformat": 4,
 "nbformat_minor": 1
}
